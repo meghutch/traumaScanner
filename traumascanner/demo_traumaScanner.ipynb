{
 "cells": [
  {
   "cell_type": "markdown",
   "id": "4c4f35e8-b600-4b9e-95e2-6ce7d315b35e",
   "metadata": {
    "tags": []
   },
   "source": [
    "### Demo of truamaScanner"
   ]
  },
  {
   "cell_type": "code",
   "execution_count": 1,
   "id": "19fbc8f6-5184-4b03-bcd6-f9ff7316ab88",
   "metadata": {},
   "outputs": [],
   "source": [
    "import pandas as pd\n",
    "from traumascanner import traumascanner"
   ]
  },
  {
   "cell_type": "code",
   "execution_count": 3,
   "id": "4814a99b-df1a-4a0d-9498-3871258b7891",
   "metadata": {},
   "outputs": [],
   "source": [
    "pd.set_option('display.max_rows', None)\n",
    "pd.set_option('display.max_columns', None)\n",
    "pd.set_option('display.max_colwidth', None)"
   ]
  },
  {
   "cell_type": "code",
   "execution_count": 11,
   "id": "f990298e-7c84-4b5a-b59f-be3478df03c9",
   "metadata": {},
   "outputs": [
    {
     "data": {
      "text/html": [
       "<div>\n",
       "<style scoped>\n",
       "    .dataframe tbody tr th:only-of-type {\n",
       "        vertical-align: middle;\n",
       "    }\n",
       "\n",
       "    .dataframe tbody tr th {\n",
       "        vertical-align: top;\n",
       "    }\n",
       "\n",
       "    .dataframe thead th {\n",
       "        text-align: right;\n",
       "    }\n",
       "</style>\n",
       "<table border=\"1\" class=\"dataframe\">\n",
       "  <thead>\n",
       "    <tr style=\"text-align: right;\">\n",
       "      <th></th>\n",
       "      <th>unique_study_id</th>\n",
       "      <th>report_num</th>\n",
       "      <th>report_text</th>\n",
       "      <th>diagnosis</th>\n",
       "    </tr>\n",
       "  </thead>\n",
       "  <tbody>\n",
       "    <tr>\n",
       "      <th>0</th>\n",
       "      <td>25795</td>\n",
       "      <td>1</td>\n",
       "      <td>History: Trauma from a motor vehicle accident. CT Head: Reveals a large right frontal intraparenchymal hemorrhage (4.5 x 3.8 x 4.2 cm) with surrounding vasogenic edema and an 8 mm midline shift towards the left. Multiple smaller petechial hemorrhages consistent with diffuse axonal injury are noted, along with mild compression of the right lateral ventricle. A small subarachnoid hemorrhage and epidural hematoma are present, with a non-displaced right frontal bone fracture extending into the frontal sinus. Impression: Severe traumatic brain injury with significant mass effect and midline shift, requiring close neurological monitoring and possible neurosurgical intervention.</td>\n",
       "      <td>TBI</td>\n",
       "    </tr>\n",
       "    <tr>\n",
       "      <th>1</th>\n",
       "      <td>10860</td>\n",
       "      <td>2</td>\n",
       "      <td>History: Fall from a height. CT Head: Shows a left parietal bone fracture with a small underlying epidural hematoma. No midline shift or significant mass effect is noted. No additional intracranial hemorrhages. Impression: Mild traumatic brain injury with minor epidural hematoma, observation recommended.</td>\n",
       "      <td>TBI</td>\n",
       "    </tr>\n",
       "    <tr>\n",
       "      <th>2</th>\n",
       "      <td>86820</td>\n",
       "      <td>3</td>\n",
       "      <td>History: Assault. CT Head: Demonstrates a large subdural hematoma over the right cerebral hemisphere with a midline shift of 5 mm. There is evidence of uncal herniation and compression of the right lateral ventricle. Impression: Severe traumatic brain injury with subdural hematoma and mass effect, immediate neurosurgical consultation advised.</td>\n",
       "      <td>TBI</td>\n",
       "    </tr>\n",
       "    <tr>\n",
       "      <th>3</th>\n",
       "      <td>64886</td>\n",
       "      <td>4</td>\n",
       "      <td>History: Pedestrian struck by vehicle. CT Head: Reveals bilateral frontal contusions with surrounding edema. A small subarachnoid hemorrhage is seen within the interhemispheric fissure. No significant midline shift or mass effect. Impression: Moderate traumatic brain injury with frontal contusions and subarachnoid hemorrhage.</td>\n",
       "      <td>TBI</td>\n",
       "    </tr>\n",
       "    <tr>\n",
       "      <th>4</th>\n",
       "      <td>16265</td>\n",
       "      <td>5</td>\n",
       "      <td>History: Fall from standing height. CT Head: No acute intracranial hemorrhage or mass effect identified. No evidence of skull fractures. Impression: No acute traumatic findings on this exam, consider clinical correlation.</td>\n",
       "      <td>TBI</td>\n",
       "    </tr>\n",
       "  </tbody>\n",
       "</table>\n",
       "</div>"
      ],
      "text/plain": [
       "   unique_study_id  report_num  \\\n",
       "0            25795           1   \n",
       "1            10860           2   \n",
       "2            86820           3   \n",
       "3            64886           4   \n",
       "4            16265           5   \n",
       "\n",
       "                                                                                                                                                                                                                                                                                                                                                                                                                                                                                                                                                                                                                                                                                                report_text  \\\n",
       "0  History: Trauma from a motor vehicle accident. CT Head: Reveals a large right frontal intraparenchymal hemorrhage (4.5 x 3.8 x 4.2 cm) with surrounding vasogenic edema and an 8 mm midline shift towards the left. Multiple smaller petechial hemorrhages consistent with diffuse axonal injury are noted, along with mild compression of the right lateral ventricle. A small subarachnoid hemorrhage and epidural hematoma are present, with a non-displaced right frontal bone fracture extending into the frontal sinus. Impression: Severe traumatic brain injury with significant mass effect and midline shift, requiring close neurological monitoring and possible neurosurgical intervention.   \n",
       "1                                                                                                                                                                                                                                                                                                                                                                                         History: Fall from a height. CT Head: Shows a left parietal bone fracture with a small underlying epidural hematoma. No midline shift or significant mass effect is noted. No additional intracranial hemorrhages. Impression: Mild traumatic brain injury with minor epidural hematoma, observation recommended.   \n",
       "2                                                                                                                                                                                                                                                                                                                                                  History: Assault. CT Head: Demonstrates a large subdural hematoma over the right cerebral hemisphere with a midline shift of 5 mm. There is evidence of uncal herniation and compression of the right lateral ventricle. Impression: Severe traumatic brain injury with subdural hematoma and mass effect, immediate neurosurgical consultation advised.   \n",
       "3                                                                                                                                                                                                                                                                                                                                                                   History: Pedestrian struck by vehicle. CT Head: Reveals bilateral frontal contusions with surrounding edema. A small subarachnoid hemorrhage is seen within the interhemispheric fissure. No significant midline shift or mass effect. Impression: Moderate traumatic brain injury with frontal contusions and subarachnoid hemorrhage.   \n",
       "4                                                                                                                                                                                                                                                                                                                                                                                                                                                                             History: Fall from standing height. CT Head: No acute intracranial hemorrhage or mass effect identified. No evidence of skull fractures. Impression: No acute traumatic findings on this exam, consider clinical correlation.   \n",
       "\n",
       "  diagnosis  \n",
       "0       TBI  \n",
       "1       TBI  \n",
       "2       TBI  \n",
       "3       TBI  \n",
       "4       TBI  "
      ]
     },
     "execution_count": 11,
     "metadata": {},
     "output_type": "execute_result"
    }
   ],
   "source": [
    "# we can use the ChatGPT derived reports (see generate_example_reports.ipynb)\n",
    "fake_reports = pd.read_csv('example_reports/demo_reports.csv')\n",
    "fake_reports.head()"
   ]
  },
  {
   "cell_type": "code",
   "execution_count": 12,
   "id": "0d12c941-92db-4097-887a-61ef3efcd8bf",
   "metadata": {},
   "outputs": [
    {
     "name": "stdout",
     "output_type": "stream",
     "text": [
      "Searching for radiology reports with partial matches to trauma target keyword list\n",
      "Est. number of partially matched reports: 12\n",
      "Searching for radiology reports with exact matches to trauma target keyword list\n",
      "Est. number of exact matched reports: 8\n",
      "combining potential and exact matches\n",
      "identifying reports that are false positives for trauma\n",
      "number of patients after removing false trauma reports\n",
      "11\n",
      "number of reports after removing false trauma reports\n",
      "11\n",
      "identify and remove reports that indicate an absence of post-traumatic hemorrhage\n",
      "num unique reports without hemorrhage 2\n",
      "num unique patients without no hemorrhage 2\n",
      "filter dataset for patients with likely post-traumatic hemorrhage\n",
      "printing sample size of reports and patients before excluding the no hemorrhage patients\n",
      "number of unique reports with potential post-traumatic hemorrhage: 9\n",
      "number of unique patients with potential post-traumatic hemorrhage: 9\n",
      "number of rescued reports: 0\n",
      "number of total reports: 9\n",
      "number of unique reports with post-traumatic hemorrhage: 9\n",
      "number of unique patients with post-traumatic hemorrhage: 9\n",
      "saving processed dataset to: output_dir_demo\n"
     ]
    },
    {
     "name": "stderr",
     "output_type": "stream",
     "text": [
      "/home/mrh1996/miniconda3.7/envs/tbi-env/lib/python3.7/site-packages/traumascanner/traumascanner.py:121: SettingWithCopyWarning: \n",
      "A value is trying to be set on a copy of a slice from a DataFrame.\n",
      "Try using .loc[row_indexer,col_indexer] = value instead\n",
      "\n",
      "See the caveats in the documentation: https://pandas.pydata.org/pandas-docs/stable/user_guide/indexing.html#returning-a-view-versus-a-copy\n",
      "  potential_trauma_fp['matching_sentences'] = potential_trauma_fp['report_text'].apply(get_matching_sentences, regex_phrases = fp_trauma_phrases)\n"
     ]
    }
   ],
   "source": [
    "# run traumaScanner\n",
    "potential_tbi_trauma_reports, potential_trauma_fp, potential_tbi_no_hem, rescue_additional_reports, post_traumatic_hem_reports = traumascanner(\n",
    "    path_to_data = 'example_reports/demo_reports.csv',\n",
    "                            patient_id_column = 'unique_study_id',\n",
    "                            scan_id_column = 'report_num',\n",
    "                            text_column = 'report_text',\n",
    "                            eval_partial_trauma_targets = True,\n",
    "                            eval_exact_trauma_targets = True,\n",
    "                            path_to_output_dir = \"output_dir_demo\"\n",
    ")"
   ]
  }
 ],
 "metadata": {
  "kernelspec": {
   "display_name": "tbi-env",
   "language": "python",
   "name": "tbi-env"
  },
  "language_info": {
   "codemirror_mode": {
    "name": "ipython",
    "version": 3
   },
   "file_extension": ".py",
   "mimetype": "text/x-python",
   "name": "python",
   "nbconvert_exporter": "python",
   "pygments_lexer": "ipython3",
   "version": "3.7.0"
  }
 },
 "nbformat": 4,
 "nbformat_minor": 5
}
